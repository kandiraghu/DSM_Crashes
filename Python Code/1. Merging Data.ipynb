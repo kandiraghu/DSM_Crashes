{
 "cells": [
  {
   "cell_type": "markdown",
   "metadata": {},
   "source": [
    "### 0. Importing Libraries"
   ]
  },
  {
   "cell_type": "code",
   "execution_count": 14,
   "metadata": {},
   "outputs": [],
   "source": [
    "import pandas as pd\n",
    "import numpy as np\n",
    "import matplotlib.pyplot as pyplot\n",
    "import glob"
   ]
  },
  {
   "cell_type": "code",
   "execution_count": 11,
   "metadata": {},
   "outputs": [],
   "source": [
    "path =  \"C:/Users/kandi/OneDrive - Iowa State University/Research/19. Crash_DMS/1. Crash Data/\""
   ]
  },
  {
   "cell_type": "markdown",
   "metadata": {},
   "source": [
    "### 1. Merging all crash files"
   ]
  },
  {
   "cell_type": "code",
   "execution_count": 15,
   "metadata": {},
   "outputs": [
    {
     "name": "stdout",
     "output_type": "stream",
     "text": [
      "1 2 3 4 68854\n"
     ]
    }
   ],
   "source": [
    "files = glob.glob(path + \"/*.csv\")\n",
    "li = []\n",
    "for filename in files:\n",
    "    dbf = pd.read_csv(filename, index_col=None, header=0)\n",
    "    li.append(dbf)\n",
    "    print(len(li), end=\" \")\n",
    "df2 = pd.concat(li, axis=0, ignore_index=True)\n",
    "print(len(df2))"
   ]
  },
  {
   "cell_type": "code",
   "execution_count": 18,
   "metadata": {},
   "outputs": [],
   "source": [
    "df3 =df2[['CRASH_KEY', 'CRASH_DATE', 'CRASHMONTH', 'DAYOFMONTH', 'CRASH_YEAR',\n",
    "       'CRASH_DAY', 'CRASH_TIME', 'TIMESTR','COUNTY', 'CSEVERITY', 'FATALITIES', \n",
    "       'INJURIES', 'MAJINJURY', 'MININJURY', 'POSSINJURY', 'UNKINJURY', 'PROPDMG', \n",
    "       'VEHICLES', 'TOCCUPANTS','ROUTEID', 'MEASURE', 'LATITUDE', 'LONGITUDE','CASENUMBER']]"
   ]
  },
  {
   "cell_type": "code",
   "execution_count": 20,
   "metadata": {},
   "outputs": [],
   "source": [
    "# df3.to_csv(path+\"DMS_Crashs.csv\", index = False)"
   ]
  },
  {
   "cell_type": "markdown",
   "metadata": {},
   "source": [
    "### 2. filtering crash counts for DMS locations"
   ]
  },
  {
   "cell_type": "code",
   "execution_count": 32,
   "metadata": {},
   "outputs": [
    {
     "name": "stdout",
     "output_type": "stream",
     "text": [
      "68854 75\n"
     ]
    }
   ],
   "source": [
    "crash = pd.read_csv(path+\"1. DMS_Crashs.csv\")\n",
    "dms = pd.read_csv(path+\"2. dms_oh_loc_buffer.csv\")\n",
    "print(len(crash), len(dms))"
   ]
  },
  {
   "cell_type": "code",
   "execution_count": 40,
   "metadata": {},
   "outputs": [
    {
     "name": "stdout",
     "output_type": "stream",
     "text": [
      "3 3|237 240|134 374|83 457|70 527|88 615|18 633|49 682|17 699|30 729|15 744|20 764|10 774|8 782|8 790|32 822|27 849|40 889|44 933|13 946|124 1070|0 1070|53 1123|40 1163|0 1163|33 1196|31 1227|16 1243|66 1309|44 1353|86 1439|90 1529|22 1551|70 1621|66 1687|29 1716|0 1716|34 1750|48 1798|27 1825|44 1869|0 1869|65 1934|19 1953|32 1985|98 2083|108 2191|131 2322|45 2367|63 2430|48 2478|2 2480|36 2516|58 2574|115 2689|126 2815|1 2816|86 2902|98 3000|25 3025|39 3064|51 3115|61 3176|28 3204|14 3218|144 3362|0 3362|0 3362|22 3384|12 3396|23 3419|12 3431|34 3465|17 3482|9 3491|"
     ]
    }
   ],
   "source": [
    "# create empty dataframe for appedning filtered data\n",
    "import warnings; warnings.simplefilter('ignore')\n",
    "filtered_crashes = pd.DataFrame([])\n",
    "for dms_loc in np.unique(dms[\"device_name\"]):\n",
    "    loc = dms[dms[\"device_name\"]== dms_loc].reset_index()\n",
    "    meas_start = loc.at[0,\"segment_start_measure\"] - loc.at[0,\"cutoff_before\"]\n",
    "    meas_end = loc.at[0,\"segment_end_measure\"] + loc.at[0,\"cutoff_after\"] \n",
    "    rid = loc.at[0,\"route_id\"]\n",
    "    f_crashes = crash[(crash[\"ROUTEID\"] == rid) & (crash[\"MEASURE\"] >= meas_start) & (crash[\"MEASURE\"] <= meas_end)]\n",
    "    f_crashes[\"DMS\"] = dms_loc\n",
    "    filtered_crashes = filtered_crashes.append(f_crashes)\n",
    "    print(len(f_crashes), len(filtered_crashes), end =\"|\")  "
   ]
  },
  {
   "cell_type": "code",
   "execution_count": 44,
   "metadata": {},
   "outputs": [],
   "source": [
    "# filtered_crashes.to_csv(path+\"3. Filtered_crashes.csv\", index = False)"
   ]
  },
  {
   "cell_type": "markdown",
   "metadata": {},
   "source": []
  }
 ],
 "metadata": {
  "kernelspec": {
   "display_name": "base",
   "language": "python",
   "name": "python3"
  },
  "language_info": {
   "codemirror_mode": {
    "name": "ipython",
    "version": 3
   },
   "file_extension": ".py",
   "mimetype": "text/x-python",
   "name": "python",
   "nbconvert_exporter": "python",
   "pygments_lexer": "ipython3",
   "version": "3.9.7"
  }
 },
 "nbformat": 4,
 "nbformat_minor": 2
}
